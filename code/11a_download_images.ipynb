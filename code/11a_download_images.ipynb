{
 "cells": [
  {
   "cell_type": "code",
   "execution_count": null,
   "metadata": {},
   "outputs": [],
   "source": [
    "import rasterio\n",
    "import numpy as np\n",
    "import matplotlib.pyplot as plt\n",
    "\n",
    "IMG_DIR = '/run/media/hennes/T7/projects/Seminar Paper/data/images/ae1ff67f-4e46-4eea-a00f-9c3e08de0760/composite.tif'\n",
    "\n",
    "\n",
    "# Open the .tif file\n",
    "with rasterio.open(IMG_DIR) as src:\n",
    "    # Read the bands (assuming band 1 is infrared, band 2 is red, band 3 is green, band 4 is blue)\n",
    "    blue = src.read(1)\n",
    "    green = src.read(2)\n",
    "    red = src.read(3)\n",
    "    infrared = src.read(4)\n",
    "\n",
    "    # Stack the bands into a single array\n",
    "    img = np.stack((infrared, red, green), axis=-1)\n",
    "\n",
    "    # Normalize the image data to 0-1 range for display\n",
    "    img_min, img_max = img.min(), img.max()\n",
    "    img = (img - img_min) / (img_max - img_min)\n",
    "\n",
    "    # Display the image\n",
    "    plt.figure(figsize=(10, 10))\n",
    "    plt.imshow(img)\n",
    "    plt.axis('off')\n",
    "    plt.show()\n"
   ]
  },
  {
   "cell_type": "code",
   "execution_count": 12,
   "metadata": {},
   "outputs": [],
   "source": [
    "from datetime import datetime\n",
    "import pandas as pd\n",
    "\n",
    "import getpass\n",
    "from planet import Auth, Session\n",
    "from planet import order_request\n",
    "from planet_helpers import repair_aoi, get_offline_order_names\n",
    "\n",
    "import asyncio\n",
    "import nest_asyncio\n",
    "nest_asyncio.apply()\n",
    "\n",
    "from download_images import prepare_data, create_order_list\n",
    "from tqdm.asyncio import tqdm  # Use tqdm.asyncio for async support\n",
    "\n",
    "# initialise logging\n",
    "import logging\n",
    "logging.basicConfig(\n",
    "    filename='../download_images.log',  # Log file location\n",
    "    level=logging.ERROR,  # Set the logging level\n",
    "    format='%(asctime)s - %(levelname)s - %(message)s'  # Log message format\n",
    ")\n",
    "\n",
    "DATA_DIR = \"../data\"\n",
    "DOWNLOAD_DIR = DATA_DIR + \"/images\"\n",
    "SEARCH_DIR = DATA_DIR + \"/searches\"\n",
    "ORDER_DIR = DATA_DIR + \"/orders\""
   ]
  },
  {
   "cell_type": "code",
   "execution_count": 18,
   "metadata": {},
   "outputs": [],
   "source": [
    "sample_df = pd.read_csv(DATA_DIR + \"/download_sample.csv\")\n",
    "places_df = pd.read_csv(DATA_DIR + \"/places.csv\")[[\"location_id\", \"geometry\"]]\n",
    "sample = prepare_data(sample_df, places_df)    \n",
    "order_list = create_order_list(sample)"
   ]
  },
  {
   "cell_type": "code",
   "execution_count": 33,
   "metadata": {},
   "outputs": [],
   "source": [
    "search = [order for order in order_list if \"events_9173475\" in order[\"name\"]][0]\n",
    "geom = search[\"geom\"][\"coordinates\"][0]"
   ]
  },
  {
   "cell_type": "code",
   "execution_count": null,
   "metadata": {},
   "outputs": [],
   "source": [
    "from shapely.geometry import Polygon\n",
    "from shapely.validation import make_valid\n",
    "polygon = Polygon(geom)\n",
    "if not polygon.is_valid:\n",
    "    repaired_geom = make_valid(polygon)\n",
    "    repaired_geom = repaired_geom.geoms[0].exterior.coords[:]\n",
    "    repaired_geom = [list(pair) for pair in repaired_geom]\n",
    "    return repaired_geom\n",
    "else:\n",
    "    return geom"
   ]
  }
 ],
 "metadata": {
  "kernelspec": {
   "display_name": "seminar_paper",
   "language": "python",
   "name": "python3"
  },
  "language_info": {
   "codemirror_mode": {
    "name": "ipython",
    "version": 3
   },
   "file_extension": ".py",
   "mimetype": "text/x-python",
   "name": "python",
   "nbconvert_exporter": "python",
   "pygments_lexer": "ipython3",
   "version": "3.10.14"
  }
 },
 "nbformat": 4,
 "nbformat_minor": 2
}
