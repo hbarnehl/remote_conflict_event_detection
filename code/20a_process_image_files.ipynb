{
 "cells": [
  {
   "cell_type": "code",
   "execution_count": null,
   "metadata": {},
   "outputs": [],
   "source": [
    "import os\n",
    "import shutil\n",
    "import zipfile\n",
    "\n",
    "IMG_DIR = '../data/images_ukraine_copy/'\n",
    "\n",
    "def unzip_file(zip_path, extract_to):\n",
    "    # Ensure the extraction directory exists\n",
    "    os.makedirs(extract_to, exist_ok=True)\n",
    "    \n",
    "    # Open the zip file\n",
    "    with zipfile.ZipFile(zip_path, 'r') as zip_ref:\n",
    "        # Extract all contents to the specified directory\n",
    "        zip_ref.extractall(extract_to)\n",
    "        \n",
    "for dir in os.listdir(IMG_DIR):\n",
    "    if os.path.isfile(IMG_DIR+dir):\n",
    "        continue\n",
    "    for file in os.listdir(IMG_DIR + dir):\n",
    "        if file.endswith('.zip'):\n",
    "            zip_path = IMG_DIR + dir + '/' + file\n",
    "            img_name = file.split('.')[0]\n",
    "            extract_to = IMG_DIR + img_name\n",
    "            unzip_file(zip_path, extract_to)\n",
    "    shutil.rmtree(IMG_DIR + dir)"
   ]
  },
  {
   "cell_type": "code",
   "execution_count": null,
   "metadata": {},
   "outputs": [],
   "source": []
  }
 ],
 "metadata": {
  "kernelspec": {
   "display_name": "seminar_paper",
   "language": "python",
   "name": "python3"
  },
  "language_info": {
   "codemirror_mode": {
    "name": "ipython",
    "version": 3
   },
   "file_extension": ".py",
   "mimetype": "text/x-python",
   "name": "python",
   "nbconvert_exporter": "python",
   "pygments_lexer": "ipython3",
   "version": "3.9.21"
  }
 },
 "nbformat": 4,
 "nbformat_minor": 2
}
