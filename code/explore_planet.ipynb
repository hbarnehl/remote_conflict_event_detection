{
 "cells": [
  {
   "cell_type": "code",
   "execution_count": 47,
   "metadata": {},
   "outputs": [],
   "source": [
    "import pandas as pd\n",
    "import planet\n",
    "import asyncio\n",
    "import os\n",
    "import getpass\n",
    "from planet import Auth, Session\n",
    "import json\n",
    "\n",
    "DOWNLOAD_DIR = '../data/planet_data'\n"
   ]
  },
  {
   "cell_type": "code",
   "execution_count": 2,
   "metadata": {},
   "outputs": [],
   "source": [
    "user = input(\"Username: \")\n",
    "pw = getpass.getpass()\n",
    "auth = Auth.from_login(user,pw)\n",
    "auth.store()"
   ]
  },
  {
   "cell_type": "markdown",
   "metadata": {},
   "source": [
    "Interaction with the server is done through sessions that automatically implement rate limits.\n",
    "Do not use multiple Sessions as it can cause collisions and bypass rate-limiting."
   ]
  },
  {
   "cell_type": "markdown",
   "metadata": {},
   "source": [
    "Searching:"
   ]
  },
  {
   "cell_type": "code",
   "execution_count": null,
   "metadata": {},
   "outputs": [],
   "source": [
    "def parse_polygon(polygon_str):\n",
    "    # Remove the 'POLYGON ((' prefix and '))' suffix\n",
    "    polygon_str = polygon_str.replace('POLYGON ((', '').replace('))', '')\n",
    "    # Split the string into coordinate pairs\n",
    "    coord_pairs = polygon_str.split(', ')\n",
    "    # Convert each coordinate pair into a list of floats\n",
    "    coordinates = [[float(coord) for coord in pair.split()] for pair in coord_pairs]\n",
    "    # Wrap the list of coordinates in an additional list to match the desired structure\n",
    "    return [coordinates]\n",
    "\n",
    "data = pd.read_csv(\"../data/places.csv\")\n",
    "\n",
    "data['geometry'] = data['geometry'].apply(parse_polygon)\n",
    "\n",
    "geom = {\n",
    "       \"type\": \"Polygon\",\n",
    "       \"coordinates\": data['geometry'][0]\n",
    "   }"
   ]
  },
  {
   "cell_type": "code",
   "execution_count": 26,
   "metadata": {},
   "outputs": [],
   "source": [
    "from planet import data_filter\n",
    "from datetime import datetime\n",
    "# Define the filters we'll use to find our data\n",
    "\n",
    "item_types = [\"PSScene\"]\n",
    "\n",
    "# set individual filters\n",
    "\n",
    "# geom filter: search for items whose footprint geometry inter-\n",
    "# sects with specified geometry\n",
    "geom_filter = data_filter.geometry_filter(geom)\n",
    "\n",
    "# # only include images with clear_percent greater than 90 \n",
    "# clear_percent_filter = data_filter.range_filter('clear_percent', gt = 90)\n",
    "\n",
    "# only look for images between following dates\n",
    "date_range_filter = data_filter.date_range_filter(\"acquired\", gt = datetime(month=1, day=1, year=2022), lt=datetime(month=1, day=3, year=2022))\n",
    "\n",
    "# # cloudcover less than 0.1\n",
    "# cloud_cover_filter = data_filter.range_filter('cloud_cover', lt = 0.1)\n",
    "\n",
    "# combine individual filters\n",
    "combined_filter = data_filter.and_filter([geom_filter, date_range_filter])"
   ]
  },
  {
   "cell_type": "code",
   "execution_count": 30,
   "metadata": {},
   "outputs": [],
   "source": [
    "async with Session() as sess:\n",
    "    cl = sess.client('data')\n",
    "    request = await cl.create_search(name='planet_client_demo',\n",
    "                                     search_filter=combined_filter,\n",
    "                                     item_types=item_types)"
   ]
  },
  {
   "cell_type": "code",
   "execution_count": 31,
   "metadata": {},
   "outputs": [],
   "source": [
    "# The limit paramter allows us to limit the number of results from our search that are returned.\n",
    "# The default limit is 100. Here, we're setting our result limit to 50.\n",
    "async with Session() as sess:\n",
    "    cl = sess.client('data')\n",
    "    items = cl.run_search(search_id=request['id'], limit=50)\n",
    "    item_list = [i async for i in items]"
   ]
  },
  {
   "cell_type": "code",
   "execution_count": null,
   "metadata": {},
   "outputs": [],
   "source": [
    "for item in item_list:\n",
    "    print(item['id'], item['properties']['item_type'])\n",
    "\n",
    "# and save results\n",
    "with open('../search_results/results.json','w') as f:\n",
    "    jsonStr = json.dumps(item_list)\n",
    "    f.write(jsonStr)\n",
    "    f.close()"
   ]
  },
  {
   "cell_type": "code",
   "execution_count": null,
   "metadata": {},
   "outputs": [],
   "source": [
    "item_list[0][\"properties\"]"
   ]
  },
  {
   "cell_type": "markdown",
   "metadata": {},
   "source": [
    "Creating Orders:"
   ]
  },
  {
   "cell_type": "code",
   "execution_count": null,
   "metadata": {},
   "outputs": [],
   "source": [
    "def create_request(geom, items, request_name, item_type, asset_type):\n",
    "   '''\n",
    "   This function creates an order request for the specified geometry, items, request name, item type, and asset type.\n",
    "   geom: The geometry of the location of interest. This is used to clip the images to the specified area.\n",
    "   items: The list of item IDs to be ordered.\n",
    "   request_name: The name of the order request (for cataloging).\n",
    "   item_type: The type of item to be ordered, e.g. PSScene\n",
    "   asset_type: The type of asset to be ordered, e.g. ortho_visual, ortho_analytic_4b \n",
    "   '''\n",
    "   order = planet.order_request.build_request(\n",
    "       name=request_name,\n",
    "       products=[\n",
    "           planet.order_request.product(item_ids=items,\n",
    "                                        product_bundle=asset_type,\n",
    "                                        item_type=item_type)\n",
    "       ],\n",
    "       tools=[planet.order_request.clip_tool(aoi=geom)])\n",
    "\n",
    "   return order"
   ]
  },
  {
   "cell_type": "code",
   "execution_count": 48,
   "metadata": {},
   "outputs": [],
   "source": [
    "async def create_and_download(client, order_detail, directory):\n",
    "   with planet.reporting.StateBar(state='creating') as reporter:\n",
    "       order = await client.create_order(order_detail)\n",
    "       reporter.update(state='created', order_id=order['id'])\n",
    "       await client.wait(order['id'], callback=reporter.update_state)\n",
    "\n",
    "   await client.download_order(order['id'], directory, progress_bar=True)\n",
    "\n",
    "async def main(geom, items, request_name, item_type, asset_type):\n",
    "   async with planet.Session() as sess:\n",
    "       cl = sess.client('orders')\n",
    "\n",
    "       # Create the order request\n",
    "       request = create_request(geom, items, request_name, item_type, asset_type)\n",
    "\n",
    "       # Create and download the order\n",
    "       order = await create_and_download(cl, request, DOWNLOAD_DIR)"
   ]
  },
  {
   "cell_type": "code",
   "execution_count": null,
   "metadata": {},
   "outputs": [],
   "source": [
    "await main(geom, [item['id'] for item in item_list], 'planet_client_demo', 'PSScene', 'visual')"
   ]
  }
 ],
 "metadata": {
  "kernelspec": {
   "display_name": "seminar_paper",
   "language": "python",
   "name": "python3"
  },
  "language_info": {
   "codemirror_mode": {
    "name": "ipython",
    "version": 3
   },
   "file_extension": ".py",
   "mimetype": "text/x-python",
   "name": "python",
   "nbconvert_exporter": "python",
   "pygments_lexer": "ipython3",
   "version": "3.10.14"
  }
 },
 "nbformat": 4,
 "nbformat_minor": 2
}
