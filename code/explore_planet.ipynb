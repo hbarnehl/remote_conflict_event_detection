{
 "cells": [
  {
   "cell_type": "code",
   "execution_count": 2,
   "metadata": {},
   "outputs": [],
   "source": [
    "import planet\n",
    "import asyncio\n",
    "import os\n",
    "import getpass\n",
    "from planet import Auth"
   ]
  },
  {
   "cell_type": "code",
   "execution_count": 7,
   "metadata": {},
   "outputs": [],
   "source": [
    "user = input(\"Username: \")\n",
    "pw = getpass.getpass()\n",
    "auth = Auth.from_login(user,pw)\n",
    "auth.store()"
   ]
  },
  {
   "cell_type": "markdown",
   "metadata": {},
   "source": [
    "Interaction with the server is done through sessions that automatically implement rate limits.\n",
    "Do not use multiple Sessions as it can cause collisions and bypass rate-limiting."
   ]
  },
  {
   "cell_type": "code",
   "execution_count": 1,
   "metadata": {},
   "outputs": [],
   "source": [
    "async def create_and_download(client, order_detail, directory):\n",
    "   with planet.reporting.StateBar(state='creating') as reporter:\n",
    "       order = await client.create_order(order_detail)\n",
    "       reporter.update(state='created', order_id=order['id'])\n",
    "       await client.wait(order['id'], callback=reporter.update_state)\n",
    "\n",
    "   await client.download_order(order['id'], directory, progress_bar=True)\n",
    "\n",
    "async def main():\n",
    "   async with planet.Session() as sess:\n",
    "       cl = sess.client('orders')\n",
    "\n",
    "       # Create the order request\n",
    "       request = create_request()\n",
    "\n",
    "       # Create and download the order\n",
    "       order = await create_and_download(cl, request, DOWNLOAD_DIR)"
   ]
  },
  {
   "cell_type": "markdown",
   "metadata": {},
   "source": [
    "Creating Orders:"
   ]
  },
  {
   "cell_type": "code",
   "execution_count": null,
   "metadata": {},
   "outputs": [],
   "source": [
    "def create_request():\n",
    "    # This is your area of interest for the Orders clipping tool\n",
    "    oregon_aoi = {\n",
    "       \"type\":\n",
    "       \"Polygon\",\n",
    "       \"coordinates\": [[[-117.558734, 45.229745], [-117.452447, 45.229745],\n",
    "                        [-117.452447, 45.301865], [-117.558734, 45.301865],\n",
    "                        [-117.558734, 45.229745]]]\n",
    "   }\n",
    "\n",
    "   # In practice, you will use a Data API search to find items, but\n",
    "   # for this example take them as given.\n",
    "   oregon_items = ['20200909_182525_1014', '20200909_182524_1014']\n",
    "\n",
    "   oregon_order = planet.order_request.build_request(\n",
    "       name='oregon_order',\n",
    "       products=[\n",
    "           planet.order_request.product(item_ids=oregon_items,\n",
    "                                        product_bundle='analytic_udm2',\n",
    "                                        item_type='PSScene')\n",
    "       ],\n",
    "       tools=[planet.order_request.clip_tool(aoi=oregon_aoi)])\n",
    "\n",
    "   return oregon_order"
   ]
  }
 ],
 "metadata": {
  "kernelspec": {
   "display_name": "seminar_paper",
   "language": "python",
   "name": "python3"
  },
  "language_info": {
   "codemirror_mode": {
    "name": "ipython",
    "version": 3
   },
   "file_extension": ".py",
   "mimetype": "text/x-python",
   "name": "python",
   "nbconvert_exporter": "python",
   "pygments_lexer": "ipython3",
   "version": "3.10.14"
  }
 },
 "nbformat": 4,
 "nbformat_minor": 2
}
