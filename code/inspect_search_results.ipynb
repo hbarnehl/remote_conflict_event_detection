{
 "cells": [
  {
   "cell_type": "code",
   "execution_count": 17,
   "metadata": {},
   "outputs": [],
   "source": [
    "import pandas as pd\n",
    "import matplotlib.pyplot as plt\n",
    "\n",
    "DATA_DIR = '../data/'"
   ]
  },
  {
   "cell_type": "code",
   "execution_count": null,
   "metadata": {},
   "outputs": [],
   "source": [
    "search_df = pd.read_csv(DATA_DIR+\"best_search_results.csv\")\n",
    "timeline_df = pd.read_csv(DATA_DIR+\"ACLED_Ukraine_events_timeline.csv\")\n",
    "events_df = pd.read_csv(DATA_DIR+\"ACLED_Ukraine_2013-11-01-2024-12-16.csv\")"
   ]
  },
  {
   "cell_type": "code",
   "execution_count": 60,
   "metadata": {},
   "outputs": [],
   "source": [
    "# create new column \"timeline_id\" that is all the numbers from the search_id column\n",
    "search_df['timeline_id'] = search_df['search_id'].str.extract('(\\d+)')\n",
    "\n",
    "# create new binary column \"missing\" that is 1 if either before_image_id or after_image_id is missing\n",
    "search_df['missing'] = search_df['before_image_id'].isnull() | search_df['after_image_id'].isnull()\n",
    "\n",
    "# create new column \"timeline_id\" that is all the numbers from the search_id column\n",
    "search_df['timeline_id'] = search_df['search_id'].str.extract('(\\d+)').astype(int)\n",
    "\n",
    "# create new column \"full clarity\" that is 1 if both before_agg_clear and after_agg_clear are between 0.95 and 1\n",
    "search_df['full_clarity'] = (search_df['before_agg_clear'] >= 0.95) & (search_df['after_agg_clear'] >= 0.95)"
   ]
  },
  {
   "cell_type": "code",
   "execution_count": 63,
   "metadata": {},
   "outputs": [],
   "source": [
    "# merge timeline_df with search_df on timeline_id\n",
    "# define relevant columns\n",
    "relevant_cols_timeline_df = ['timeline_id', 'event_date', \"any_event\", \"event_id_cnty\"]\n",
    "relevant_cols_events_df = ['event_id_cnty', 'event_type', 'sub_event_type']\n",
    "\n",
    "merged_df = pd.merge(search_df, timeline_df[relevant_cols_timeline_df], on='timeline_id', how='left').merge(events_df[relevant_cols_events_df], on='event_id_cnty', how='left')"
   ]
  },
  {
   "cell_type": "code",
   "execution_count": null,
   "metadata": {},
   "outputs": [],
   "source": [
    "# extract month from event_date\n",
    "merged_df['event_date'] = pd.to_datetime(merged_df['event_date'])\n",
    "merged_df['month'] = merged_df['event_date'].dt.to_period('M')\n",
    "\n",
    "# aggregate by month and plot the share of events with missing images\n",
    "missing_share = merged_df.groupby('month')['missing'].mean()\n",
    "# plot the share of events with missing images, make the x axis long enough to show all months\n",
    "missing_share.plot(kind='bar', figsize=(20,10))"
   ]
  },
  {
   "cell_type": "code",
   "execution_count": null,
   "metadata": {},
   "outputs": [],
   "source": [
    "# aggregate by month and plot the number of rows where any_event is 1 and those where it is 0\n",
    "any_event = merged_df.groupby(['month', 'any_event']).size().unstack()\n",
    "any_event.plot(kind='bar', figsize=(20,10))"
   ]
  },
  {
   "cell_type": "code",
   "execution_count": null,
   "metadata": {},
   "outputs": [],
   "source": [
    "# extract month from event_date\n",
    "timeline_df['event_date'] = pd.to_datetime(timeline_df['event_date'])\n",
    "timeline_df['month'] = timeline_df['event_date'].dt.to_period('M')\n",
    "\n",
    "# aggregate by month and plot the number of rows where any_event is 1\n",
    "any_event = timeline_df.groupby('month')['any_event'].sum()\n",
    "# plot the number of rows where any_event is 1\n",
    "any_event.plot(kind='bar', figsize=(20,10))"
   ]
  },
  {
   "cell_type": "code",
   "execution_count": null,
   "metadata": {},
   "outputs": [],
   "source": [
    "merged_df.groupby('any_event')[\"missing\"].value_counts()"
   ]
  },
  {
   "cell_type": "code",
   "execution_count": null,
   "metadata": {},
   "outputs": [],
   "source": [
    "# plot histogram of before_agg_clear\n",
    "merged_df['before_agg_clear'].hist()"
   ]
  },
  {
   "cell_type": "code",
   "execution_count": null,
   "metadata": {},
   "outputs": [],
   "source": [
    "# plot histogram of before_agg_clear\n",
    "merged_df['after_agg_clear'].hist()"
   ]
  },
  {
   "cell_type": "code",
   "execution_count": null,
   "metadata": {},
   "outputs": [],
   "source": [
    "# count values of sub_event_type where missing is False\n",
    "merged_df[merged_df['missing'] == False].groupby(\"full_clarity\")['sub_event_type'].value_counts()"
   ]
  }
 ],
 "metadata": {
  "kernelspec": {
   "display_name": "seminar_paper",
   "language": "python",
   "name": "python3"
  },
  "language_info": {
   "codemirror_mode": {
    "name": "ipython",
    "version": 3
   },
   "file_extension": ".py",
   "mimetype": "text/x-python",
   "name": "python",
   "nbconvert_exporter": "python",
   "pygments_lexer": "ipython3",
   "version": "3.10.14"
  }
 },
 "nbformat": 4,
 "nbformat_minor": 2
}
