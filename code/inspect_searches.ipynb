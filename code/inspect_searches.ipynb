{
 "cells": [
  {
   "cell_type": "code",
   "execution_count": null,
   "metadata": {},
   "outputs": [],
   "source": [
    "import os\n",
    "import json\n",
    "\n",
    "def load_json_files(folder_path, num_files, timeline_ids=None, start_index=0):\n",
    "    files = os.listdir(folder_path)\n",
    "    json_data = []\n",
    "\n",
    "    if timeline_ids:\n",
    "        # Load files by timeline_ids\n",
    "        files_to_load = [f for f in files if any(timeline_id in f for timeline_id in timeline_ids)]\n",
    "    else:\n",
    "        # Load files by alphabetic order with starting index\n",
    "        files_to_load = sorted(files)[start_index:start_index + num_files]\n",
    "\n",
    "    for file_name in files_to_load:\n",
    "        with open(os.path.join(folder_path, file_name), 'r') as file:\n",
    "            data = json.load(file)\n",
    "            json_data.append(data)\n",
    "\n",
    "    return json_data\n",
    "\n",
    "# Example usage:\n",
    "# folder_path = '../data/searches'\n",
    "# num_files = 10\n",
    "# start_index = 5\n",
    "# timeline_ids = ['events_12345', 'non-events_67890']\n",
    "# data = load_json_files(folder_path, num_files, timeline_ids, start_index)\n",
    "# print(data)"
   ]
  },
  {
   "cell_type": "code",
   "execution_count": 20,
   "metadata": {},
   "outputs": [
    {
     "name": "stdout",
     "output_type": "stream",
     "text": [
      "4364\n"
     ]
    }
   ],
   "source": [
    "import os \n",
    "SEARCH_DIR = \"../data/searches\"\n",
    "\n",
    "# print the number of files in SEARCH_DIR that have a bigger byte size than 50000\n",
    "def print_big_files():\n",
    "    big_files = [f for f in os.listdir(SEARCH_DIR) if os.path.getsize(os.path.join(SEARCH_DIR, f)) > 50000]\n",
    "    print(len(big_files))\n",
    "\n",
    "print_big_files()\n"
   ]
  }
 ],
 "metadata": {
  "kernelspec": {
   "display_name": "seminar_paper",
   "language": "python",
   "name": "python3"
  },
  "language_info": {
   "codemirror_mode": {
    "name": "ipython",
    "version": 3
   },
   "file_extension": ".py",
   "mimetype": "text/x-python",
   "name": "python",
   "nbconvert_exporter": "python",
   "pygments_lexer": "ipython3",
   "version": "3.10.14"
  }
 },
 "nbformat": 4,
 "nbformat_minor": 2
}
